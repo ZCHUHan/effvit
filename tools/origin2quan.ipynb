{
 "cells": [
  {
   "cell_type": "code",
   "execution_count": null,
   "metadata": {},
   "outputs": [],
   "source": [
    "import torch\n",
    "origin_pth = torch.load('../checkpoints/effvit/best_73mIoU.pth' ,map_location=torch.device('cuda'))"
   ]
  },
  {
   "cell_type": "code",
   "execution_count": null,
   "metadata": {},
   "outputs": [],
   "source": [
    "new_state_dict = origin_pth\n",
    "for k, v in origin_pth.items():\n",
    "    new_state_dict[k] = v\n",
    "\n",
    "for k in list(new_state_dict[\"model_state\"]):\n",
    "    if \"main\" in k:\n",
    "        print(k)\n",
    "        ori = k\n",
    "        new_k = ori.replace(\"main.\", \"\")\n",
    "        new_state_dict[\"model_state\"][new_k] = origin_pth[\"model_state\"][ori]\n",
    "        print(new_k)\n",
    "        del new_state_dict[\"model_state\"][ori]\n",
    "        "
   ]
  },
  {
   "cell_type": "code",
   "execution_count": null,
   "metadata": {},
   "outputs": [],
   "source": [
    "\n",
    "    \n",
    "        \n",
    "# for k in list(new_state_dict[\"state_dict\"]):\n",
    "#     if \"decode_head\" in k:\n",
    "#         print(k)\n",
    "#         ori = k\n",
    "#         new_k = ori.replace(\"decode_head.\", \"head.\")\n",
    "#         new_state_dict[\"state_dict\"][new_k] = origin_pth[\"state_dict\"][ori]\n",
    "#         del new_state_dict[\"state_dict\"][ori]\n",
    "\n",
    "for k in list(new_state_dict[\"state_dict\"]):\n",
    "    if \"norm.weight\" in k:\n",
    "        ori = k\n",
    "        new_k = ori.replace(\"norm.weight\", \"conv.bn_weight\")\n",
    "        new_state_dict[\"state_dict\"][new_k] = origin_pth[\"state_dict\"][ori]\n",
    "        # print(k, )\n",
    "        del new_state_dict[\"state_dict\"][ori]\n",
    "    elif \"norm.bias\" in k:\n",
    "        ori = k\n",
    "        new_k = ori.replace(\"norm.bias\", \"conv.bn_bias\")\n",
    "        print(k, new_k)\n",
    "        new_state_dict[\"state_dict\"][new_k] = origin_pth[\"state_dict\"][ori]\n",
    "        del new_state_dict[\"state_dict\"][ori]\n",
    "    elif \"norm.running_mean\" in k:\n",
    "        # print(k)\n",
    "        ori = k\n",
    "        new_k = ori.replace(\"norm.running_mean\", \"conv.running_mean\")\n",
    "        new_state_dict[\"state_dict\"][new_k] = origin_pth[\"state_dict\"][ori]\n",
    "        del new_state_dict[\"state_dict\"][ori]\n",
    "    elif \"norm.running_var\" in k:\n",
    "        # print(k)\n",
    "        ori = k\n",
    "        new_k = ori.replace(\"norm.running_var\", \"conv.running_var\")\n",
    "        new_state_dict[\"state_dict\"][new_k] = origin_pth[\"state_dict\"][ori]\n",
    "        del new_state_dict[\"state_dict\"][ori]\n",
    "    elif \"norm.num_batches_tracked\" in k:\n",
    "        del new_state_dict[\"state_dict\"][k]"
   ]
  },
  {
   "cell_type": "code",
   "execution_count": null,
   "metadata": {},
   "outputs": [],
   "source": [
    "# net = torch.load('../checkpoints/effvit/quan_b1_full.pth' ,map_location=torch.device('cuda'))\n",
    "net = new_state_dict\n",
    "for key, value in list(net['state_dict'].items()):\n",
    "    if 'qkv' in key or 'aggre' in key: print(key, value.size(), sep=\" \")\n",
    "\n"
   ]
  },
  {
   "cell_type": "code",
   "execution_count": null,
   "metadata": {},
   "outputs": [],
   "source": [
    "from torch import ne\n",
    "\n",
    "\n",
    "for k in list(new_state_dict[\"state_dict\"]):\n",
    "    if \"aggreg\" in k:\n",
    "        print(k)\n",
    "        if \"weight\" in k:\n",
    "            # print(k)\n",
    "            ori = k\n",
    "            new_k = ori.replace(\"weight\", \"conv.weight\")\n",
    "            print(new_k)\n",
    "            ori = k\n",
    "            new_state_dict[\"state_dict\"][new_k] = origin_pth[\"state_dict\"][ori]\n",
    "            del new_state_dict[\"state_dict\"][ori]\n",
    "    elif \"qkv_layers\" in k:\n",
    "        print(k)\n",
    "        ori = k\n",
    "        new_k = ori.replace(\"conv.\", \"\")\n",
    "        print(new_k)\n",
    "        ori = k\n",
    "        new_state_dict[\"state_dict\"][new_k] = origin_pth[\"state_dict\"][ori]\n",
    "        del new_state_dict[\"state_dict\"][ori]\n",
    "        # elif \"bias\" in k:\n",
    "        #     print(k)\n",
    "        #     ori = k\n",
    "        #     new_k = ori.replace(\"bias\", \"conv.bias\")\n",
    "        #     new_state_dict[\"state_dict\"][new_k] = origin_pth[\"state_dict\"][ori]\n",
    "        #     del new_state_dict[\"state_dict\"][ori]\n",
    "        # elif \"bn_weight\" in k:\n",
    "        #     print(k)\n",
    "        #     ori = k\n",
    "        #     new_k = ori.replace(\"bn_weight\", \"conv.bn_weight\")\n",
    "        #     new_state_dict[\"state_dict\"][new_k] = origin_pth[\"state_dict\"][ori]\n",
    "        #     del new_state_dict[\"state_dict\"][ori]\n",
    "        # elif \"bn_bias\" in k:\n",
    "        #     print(k)\n",
    "        #     ori = k\n",
    "        #     new_k = ori.replace(\"bn_bias\", \"conv.bn_bias\")\n",
    "        #     new_state_dict[\"state_dict\"][new_k] = origin_pth[\"state_dict\"][ori]\n",
    "        #     del new_state_dict[\"state_dict\"][ori]\n",
    "        "
   ]
  },
  {
   "cell_type": "code",
   "execution_count": null,
   "metadata": {},
   "outputs": [],
   "source": [
    "torch.save(new_state_dict, '../checkpoints/effvit/best_73mIoU_res.pth')"
   ]
  },
  {
   "cell_type": "code",
   "execution_count": null,
   "metadata": {},
   "outputs": [],
   "source": []
  }
 ],
 "metadata": {
  "kernelspec": {
   "display_name": "segmaxformer",
   "language": "python",
   "name": "python3"
  },
  "language_info": {
   "codemirror_mode": {
    "name": "ipython",
    "version": 3
   },
   "file_extension": ".py",
   "mimetype": "text/x-python",
   "name": "python",
   "nbconvert_exporter": "python",
   "pygments_lexer": "ipython3",
   "version": "3.8.0"
  },
  "orig_nbformat": 4
 },
 "nbformat": 4,
 "nbformat_minor": 2
}
